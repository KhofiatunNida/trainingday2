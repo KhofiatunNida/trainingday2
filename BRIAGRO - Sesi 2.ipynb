{
 "cells": [
  {
   "cell_type": "code",
   "execution_count": null,
   "id": "30f00292",
   "metadata": {},
   "outputs": [],
   "source": [
    "== #equals\n",
    "!=\n",
    "<\n",
    ">\n",
    "<=\n",
    ">="
   ]
  },
  {
   "cell_type": "code",
   "execution_count": 14,
   "id": "585d5dd5",
   "metadata": {},
   "outputs": [],
   "source": [
    "cuaca = 'cerah'\n",
    "\n",
    "if cuaca != 'cerah':\n",
    "    print('pergi keluar')\n",
    "    print('pergi ke rumah nenek')"
   ]
  },
  {
   "cell_type": "code",
   "execution_count": 8,
   "id": "368542c6",
   "metadata": {},
   "outputs": [
    {
     "name": "stdout",
     "output_type": "stream",
     "text": [
      "benar\n",
      "...\n",
      "...\n",
      "Something\n"
     ]
    }
   ],
   "source": [
    "x = 1\n",
    "y = 10\n",
    "if x >= 1: #expression 1\n",
    "    print('benar') # statement 1\n",
    "    print('...') # statement 2\n",
    "    print('...') # statement 3\n",
    "    \n",
    "    if x == 10: # expression 2\n",
    "        print('benar') #statement A\n",
    "        print('...') # statement B\n",
    "        print('...') # statement C\n",
    "        \n",
    "        if x ==1: #expression 2\n",
    "            print('OK') # statement 1\n",
    "\n",
    "print('Something')"
   ]
  },
  {
   "cell_type": "code",
   "execution_count": 10,
   "id": "83316887",
   "metadata": {},
   "outputs": [
    {
     "name": "stdout",
     "output_type": "stream",
     "text": [
      "Outer condition is true\n",
      "Between inner conditions\n",
      "Inner condition 2\n",
      "End of outer condition\n",
      "After outer condition\n"
     ]
    }
   ],
   "source": [
    "if 'foo' in ['foo', 'bar', 'baz']:\n",
    "    print('Outer condition is true')\n",
    "    \n",
    "    if 10 > 20:\n",
    "        print('Inner condition')\n",
    "    \n",
    "    print('Between inner conditions')\n",
    "    \n",
    "    if 10 < 20:\n",
    "        print('Inner condition 2')\n",
    "        \n",
    "    print('End of outer condition')\n",
    "\n",
    "print('After outer condition')"
   ]
  },
  {
   "cell_type": "code",
   "execution_count": 11,
   "id": "d2e63ca2",
   "metadata": {},
   "outputs": [
    {
     "name": "stdout",
     "output_type": "stream",
     "text": [
      "NOT\n"
     ]
    }
   ],
   "source": [
    "x = 10\n",
    "\n",
    "if x < 10:\n",
    "    print('OK')\n",
    "else:\n",
    "    print('NOT')"
   ]
  },
  {
   "cell_type": "code",
   "execution_count": 14,
   "id": "60c283e6",
   "metadata": {},
   "outputs": [
    {
     "name": "stdout",
     "output_type": "stream",
     "text": [
      "THIS1\n"
     ]
    }
   ],
   "source": [
    "y = 100\n",
    "\n",
    "if y == 90:\n",
    "    print('OK')\n",
    "elif y == 80:\n",
    "    print('THIS')\n",
    "elif y == 100:\n",
    "    print('THIS1')\n",
    "elif y == 20:\n",
    "    print('THIS2')\n",
    "else:\n",
    "    print('NOT')"
   ]
  },
  {
   "cell_type": "code",
   "execution_count": 15,
   "id": "c2202f77",
   "metadata": {},
   "outputs": [
    {
     "name": "stdout",
     "output_type": "stream",
     "text": [
      "(First suite)\n",
      "x is small\n"
     ]
    }
   ],
   "source": [
    "x = 20\n",
    "\n",
    "if x < 50:\n",
    "    print('(First suite)')\n",
    "    print('x is small')\n",
    "else:\n",
    "    print('(second suite)')\n",
    "    print('x is large')"
   ]
  },
  {
   "cell_type": "code",
   "execution_count": 25,
   "id": "8aec7198",
   "metadata": {},
   "outputs": [
    {
     "name": "stdout",
     "output_type": "stream",
     "text": [
      "ngga cukup\n"
     ]
    }
   ],
   "source": [
    "harga_buku = 20000\n",
    "harga_majalah = 5000\n",
    "uang = 2000\n",
    "\n",
    "if uang > harga_buku:\n",
    "    print('beli buku')\n",
    "    \n",
    "if uang > harga_majalah:\n",
    "    print('beli pulpen')\n",
    "\n",
    "else:\n",
    "    print('ngga cukup')"
   ]
  },
  {
   "cell_type": "code",
   "execution_count": 20,
   "id": "55595306",
   "metadata": {},
   "outputs": [
    {
     "name": "stdout",
     "output_type": "stream",
     "text": [
      "Hai hack\n"
     ]
    }
   ],
   "source": [
    "name = 'Hacktiv8'\n",
    "\n",
    "if name == 'Fred':\n",
    "    print('Hai fred')\n",
    "elif name == 'Xander':\n",
    "    print('Hai xander')\n",
    "elif name == 'Hacktiv8':\n",
    "    print('Hai hack')\n",
    "elif name == 'Arnold':\n",
    "    print('Hai arnold')\n",
    "else:\n",
    "    print('I dont know')\n",
    "    "
   ]
  },
  {
   "cell_type": "code",
   "execution_count": 21,
   "id": "9b956fa2",
   "metadata": {},
   "outputs": [
    {
     "name": "stdout",
     "output_type": "stream",
     "text": [
      "Hai hack\n",
      "apa kabar\n",
      "sudah makan\n"
     ]
    }
   ],
   "source": [
    "if name == 'Hacktiv8': print('Hai hack'); print('apa kabar'); print('sudah makan')"
   ]
  },
  {
   "cell_type": "code",
   "execution_count": 22,
   "id": "11cbc427",
   "metadata": {},
   "outputs": [
    {
     "name": "stdout",
     "output_type": "stream",
     "text": [
      "Salah\n"
     ]
    }
   ],
   "source": [
    "y = 50\n",
    "x = 'Benar' if y == 10 else 'Salah'\n",
    "print(x)"
   ]
  },
  {
   "cell_type": "code",
   "execution_count": 23,
   "id": "469b5fd0",
   "metadata": {},
   "outputs": [
    {
     "name": "stdout",
     "output_type": "stream",
     "text": [
      "corge\n",
      "grault\n"
     ]
    }
   ],
   "source": [
    "if x == 1: print('foo'); print('bar'); print('baz')\n",
    "elif x == 2: print('qux'); print('qux')\n",
    "else: print('corge'); print('grault')"
   ]
  },
  {
   "cell_type": "code",
   "execution_count": 27,
   "id": "45204402",
   "metadata": {},
   "outputs": [
    {
     "name": "stdout",
     "output_type": "stream",
     "text": [
      "False\n",
      "True\n",
      "True\n"
     ]
    }
   ],
   "source": [
    "print('A' not in 'ABC')\n",
    "print('A' in ['A', 'B', 'C'])\n",
    "print('A' in ('A', 'B', 'C'))"
   ]
  },
  {
   "cell_type": "code",
   "execution_count": 28,
   "id": "899db0cf",
   "metadata": {},
   "outputs": [
    {
     "name": "stdout",
     "output_type": "stream",
     "text": [
      "Ayo ke pantai\n",
      "------------------------------\n",
      "pantai\n"
     ]
    }
   ],
   "source": [
    "hujan = False\n",
    "print('Ayo ke', 'pantai' if not hujan else 'dirumah aja')\n",
    "\n",
    "print('-'*30)\n",
    "if not hujan:\n",
    "    print('pantai')\n",
    "else:\n",
    "    print('dirumah aja')"
   ]
  },
  {
   "cell_type": "code",
   "execution_count": 29,
   "id": "737db8fc",
   "metadata": {},
   "outputs": [
    {
     "name": "stdout",
     "output_type": "stream",
     "text": [
      "Ayo ke dirumah aja\n",
      "------------------------------\n",
      "dirumah aja\n"
     ]
    }
   ],
   "source": [
    "hujan = True\n",
    "print('Ayo ke', 'pantai' if not hujan else 'dirumah aja')\n",
    "\n",
    "print('-'*30)\n",
    "if not hujan:\n",
    "    print('pantai')\n",
    "else:\n",
    "    print('dirumah aja')"
   ]
  },
  {
   "cell_type": "code",
   "execution_count": 33,
   "id": "540314e4",
   "metadata": {},
   "outputs": [
    {
     "ename": "SyntaxError",
     "evalue": "invalid syntax (<ipython-input-33-c0ec2da02f96>, line 10)",
     "output_type": "error",
     "traceback": [
      "\u001b[1;36m  File \u001b[1;32m\"<ipython-input-33-c0ec2da02f96>\"\u001b[1;36m, line \u001b[1;32m10\u001b[0m\n\u001b[1;33m    aktivitas = 'main bola' if cuaca == 'cerah' else('berenang') else('di rumah') else('main badminton') else ('tidur')\u001b[0m\n\u001b[1;37m                                                                 ^\u001b[0m\n\u001b[1;31mSyntaxError\u001b[0m\u001b[1;31m:\u001b[0m invalid syntax\n"
     ]
    }
   ],
   "source": [
    "\"\"\"\n",
    "cerah --> main bola\n",
    "berawan --> berenang\n",
    "hujan --> di rumah\n",
    "mendung --> main badminton\n",
    "terik --> tidur\n",
    "\"\"\"\n",
    "cuaca = 'hujan'\n",
    "\n",
    "aktivitas = 'main bola' if cuaca == 'cerah' else('berenang') else('di rumah') else('main badminton') else ('tidur')\n",
    "print(aktivitas)"
   ]
  },
  {
   "cell_type": "code",
   "execution_count": 34,
   "id": "b5c8f553",
   "metadata": {},
   "outputs": [
    {
     "data": {
      "text/plain": [
       "'no'"
      ]
     },
     "execution_count": 34,
     "metadata": {},
     "output_type": "execute_result"
    }
   ],
   "source": [
    "'yes' if ('qux' in ['foo', 'bar', 'baz']) else 'no'"
   ]
  },
  {
   "cell_type": "code",
   "execution_count": 35,
   "id": "edded641",
   "metadata": {},
   "outputs": [
    {
     "name": "stdout",
     "output_type": "stream",
     "text": [
      "foo\n"
     ]
    }
   ],
   "source": [
    "if True:\n",
    "    pass\n",
    "print('foo')"
   ]
  },
  {
   "cell_type": "code",
   "execution_count": 38,
   "id": "c6c72307",
   "metadata": {},
   "outputs": [
    {
     "name": "stdout",
     "output_type": "stream",
     "text": [
      "n =  0\n",
      "--------------------\n",
      "A0\n",
      "A1\n",
      "A2\n",
      "A3\n",
      "A4\n",
      "A5\n",
      "A6\n",
      "A7\n",
      "A8\n",
      "A9\n",
      "--------------------\n",
      "n - 10\n"
     ]
    }
   ],
   "source": [
    "n = 0\n",
    "print('n = ',n)\n",
    "print('-'*20)\n",
    "while True:\n",
    "    print('A{}'.format(n))\n",
    "    n += 1\n",
    "    if n == 10:\n",
    "        break\n",
    "print('-'*20)\n",
    "print('n -', n)"
   ]
  },
  {
   "cell_type": "code",
   "execution_count": null,
   "id": "a9145ebd",
   "metadata": {},
   "outputs": [],
   "source": [
    "n = 0\n",
    "print('n = ',n)\n",
    "print('-'*20)\n",
    "while True:\n",
    "    print('A{}'.format(n))\n",
    "    n += 1\n",
    "    if n == 10:\n",
    "        break\n",
    "print('-'*20)\n",
    "print('n =', n)"
   ]
  },
  {
   "cell_type": "code",
   "execution_count": 39,
   "id": "fd6b2015",
   "metadata": {},
   "outputs": [
    {
     "name": "stdout",
     "output_type": "stream",
     "text": [
      "4\n",
      "3\n",
      "2\n",
      "1\n",
      "0\n"
     ]
    }
   ],
   "source": [
    "n = 5\n",
    "while n > 0:\n",
    "    n -= 1\n",
    "    print(n)"
   ]
  },
  {
   "cell_type": "code",
   "execution_count": 42,
   "id": "51b76d1c",
   "metadata": {},
   "outputs": [
    {
     "name": "stdout",
     "output_type": "stream",
     "text": [
      "OK\n",
      "Done\n",
      "Yes\n"
     ]
    },
    {
     "ename": "SyntaxError",
     "evalue": "'break' outside loop (<ipython-input-42-3596add3fc08>, line 4)",
     "output_type": "error",
     "traceback": [
      "\u001b[1;36m  File \u001b[1;32m\"<ipython-input-42-3596add3fc08>\"\u001b[1;36m, line \u001b[1;32m4\u001b[0m\n\u001b[1;33m    break\u001b[0m\n\u001b[1;37m    ^\u001b[0m\n\u001b[1;31mSyntaxError\u001b[0m\u001b[1;31m:\u001b[0m 'break' outside loop\n"
     ]
    }
   ],
   "source": [
    "print('OK')\n",
    "print('Done')\n",
    "print('Yes')\n",
    "break\n",
    "print('ayo')"
   ]
  },
  {
   "cell_type": "code",
   "execution_count": null,
   "id": "c963c320",
   "metadata": {},
   "outputs": [],
   "source": [
    "n = 0\n",
    "print('n = ',n)\n",
    "print('-'*20)\n",
    "while True:\n",
    "    print('A{}'.format(n))\n",
    "    n += 1\n",
    "    if n == 10:\n",
    "        break\n",
    "    \n",
    "    print('B{}'.format(n))\n",
    "    \n",
    "    print('C{}'.format(n)')\n",
    "    n += 1\n",
    "          \n",
    "print('-'*20)\n",
    "print('n =', n)"
   ]
  },
  {
   "cell_type": "code",
   "execution_count": 2,
   "id": "3030ac00",
   "metadata": {},
   "outputs": [
    {
     "name": "stdout",
     "output_type": "stream",
     "text": [
      "4\n",
      "3\n",
      "1\n",
      "0\n",
      "Loop ended\n"
     ]
    }
   ],
   "source": [
    "n = 5\n",
    "while n > 0:\n",
    "    n -= 1\n",
    "    if n == 2:\n",
    "        continue\n",
    "    print(n)\n",
    "print('Loop ended')"
   ]
  },
  {
   "cell_type": "code",
   "execution_count": 5,
   "id": "b11d4fa5",
   "metadata": {},
   "outputs": [
    {
     "ename": "NameError",
     "evalue": "name 'target_tweets' is not defined",
     "output_type": "error",
     "traceback": [
      "\u001b[1;31m---------------------------------------------------------------------------\u001b[0m",
      "\u001b[1;31mNameError\u001b[0m                                 Traceback (most recent call last)",
      "\u001b[1;32m<ipython-input-5-e35c02513f51>\u001b[0m in \u001b[0;36m<module>\u001b[1;34m\u001b[0m\n\u001b[0;32m      4\u001b[0m \u001b[0mtext_warning\u001b[0m \u001b[1;33m=\u001b[0m \u001b[1;34m'ROKOK'\u001b[0m\u001b[1;33m\u001b[0m\u001b[1;33m\u001b[0m\u001b[0m\n\u001b[0;32m      5\u001b[0m \u001b[1;33m\u001b[0m\u001b[0m\n\u001b[1;32m----> 6\u001b[1;33m \u001b[1;32mwhile\u001b[0m \u001b[0mtweets_terambil\u001b[0m \u001b[1;33m!=\u001b[0m \u001b[0mtarget_tweets\u001b[0m\u001b[1;33m:\u001b[0m\u001b[1;33m\u001b[0m\u001b[1;33m\u001b[0m\u001b[0m\n\u001b[0m\u001b[0;32m      7\u001b[0m     \u001b[0mtweets_terambil\u001b[0m \u001b[1;33m+=\u001b[0m \u001b[1;36m1\u001b[0m\u001b[1;33m\u001b[0m\u001b[1;33m\u001b[0m\u001b[0m\n\u001b[0;32m      8\u001b[0m     \u001b[0mtweet\u001b[0m\u001b[1;33m(\u001b[0m\u001b[1;34m'ambil tweet ke-{}'\u001b[0m\u001b[1;33m.\u001b[0m\u001b[0mformat\u001b[0m\u001b[1;33m(\u001b[0m\u001b[0mtweets_terambil\u001b[0m\u001b[1;33m)\u001b[0m\u001b[1;33m)\u001b[0m\u001b[1;33m\u001b[0m\u001b[1;33m\u001b[0m\u001b[0m\n",
      "\u001b[1;31mNameError\u001b[0m: name 'target_tweets' is not defined"
     ]
    }
   ],
   "source": [
    "nama_akun = '@metrotvnews'\n",
    "target_tweet = 10\n",
    "tweets_terambil = 0\n",
    "text_warning = 'ROKOK'\n",
    "\n",
    "while tweets_terambil != target_tweets:\n",
    "    tweets_terambil += 1\n",
    "    tweet('ambil tweet ke-{}'.format(tweets_terambil))\n",
    "    if tweets_terambil == 5:\n",
    "        tweet = tweet + 'ROKOK'\n",
    "    print(tweet)\n",
    "    if text_warning in tweet:\n",
    "        print('warning')\n",
    "        continue\n",
    "        \n",
    "    print('Tweet aman.')"
   ]
  },
  {
   "cell_type": "code",
   "execution_count": 6,
   "id": "5c61bae4",
   "metadata": {},
   "outputs": [
    {
     "name": "stdout",
     "output_type": "stream",
     "text": [
      "4\n",
      "3\n",
      "2\n",
      "1\n",
      "0\n",
      "Loop done.\n"
     ]
    }
   ],
   "source": [
    "n = 5\n",
    "while n > 0:\n",
    "    n -= 1\n",
    "    print(n)\n",
    "else:    \n",
    "    print('Loop done.')"
   ]
  },
  {
   "cell_type": "code",
   "execution_count": 7,
   "id": "39a521d4",
   "metadata": {},
   "outputs": [
    {
     "name": "stdout",
     "output_type": "stream",
     "text": [
      "4\n",
      "3\n",
      "2\n"
     ]
    }
   ],
   "source": [
    "n = 5\n",
    "while n > 0:\n",
    "    n -= 1\n",
    "    print(n)\n",
    "    if n == 2:\n",
    "        break\n",
    "        \n",
    "else:    \n",
    "    print('Loop done.')\n",
    "\n",
    "    print('Start another process.')"
   ]
  },
  {
   "cell_type": "code",
   "execution_count": 8,
   "id": "f7f66a49",
   "metadata": {},
   "outputs": [
    {
     "name": "stdout",
     "output_type": "stream",
     "text": [
      "4\n",
      "A\n",
      "3\n",
      "A\n",
      "2\n",
      "1\n",
      "A\n",
      "0\n",
      "A\n",
      "Loop done.\n",
      "Start another process\n"
     ]
    }
   ],
   "source": [
    "n = 5\n",
    "while n > 0:\n",
    "    n -= 1\n",
    "    print(n)\n",
    "    if n == 2:\n",
    "        continue\n",
    "    print('A')\n",
    "else:    \n",
    "    print('Loop done.')\n",
    "    \n",
    "print('Start another process')"
   ]
  },
  {
   "cell_type": "code",
   "execution_count": 10,
   "id": "0cd79ae3",
   "metadata": {},
   "outputs": [
    {
     "name": "stdout",
     "output_type": "stream",
     "text": [
      "foo\n",
      "> baz\n",
      "> qux\n",
      "bar\n",
      "> baz\n",
      "> qux\n"
     ]
    }
   ],
   "source": [
    "a = ['foo', 'bar']\n",
    "while len(a):\n",
    "    print(a.pop(0))\n",
    "    \n",
    "    b = ['baz', 'qux']\n",
    "    \n",
    "    while len(b):\n",
    "        print('>', b.pop(0))"
   ]
  },
  {
   "cell_type": "code",
   "execution_count": 11,
   "id": "9eb992fa",
   "metadata": {},
   "outputs": [
    {
     "data": {
      "text/plain": [
       "2"
      ]
     },
     "execution_count": 11,
     "metadata": {},
     "output_type": "execute_result"
    }
   ],
   "source": [
    "a = ['foo', 'bar']\n",
    "len(a)"
   ]
  },
  {
   "cell_type": "code",
   "execution_count": 12,
   "id": "bc6a6b18",
   "metadata": {},
   "outputs": [
    {
     "data": {
      "text/plain": [
       "'foo'"
      ]
     },
     "execution_count": 12,
     "metadata": {},
     "output_type": "execute_result"
    }
   ],
   "source": [
    "a.pop(0)"
   ]
  },
  {
   "cell_type": "code",
   "execution_count": 21,
   "id": "d662f709",
   "metadata": {},
   "outputs": [
    {
     "ename": "SyntaxError",
     "evalue": "EOL while scanning string literal (<ipython-input-21-0120127f1f09>, line 1)",
     "output_type": "error",
     "traceback": [
      "\u001b[1;36m  File \u001b[1;32m\"<ipython-input-21-0120127f1f09>\"\u001b[1;36m, line \u001b[1;32m1\u001b[0m\n\u001b[1;33m    a = ('foo', 'bar', 'baz)\u001b[0m\n\u001b[1;37m                            ^\u001b[0m\n\u001b[1;31mSyntaxError\u001b[0m\u001b[1;31m:\u001b[0m EOL while scanning string literal\n"
     ]
    }
   ],
   "source": [
    "a = ('foo', 'bar', 'baz)\n",
    "for i in a:\n",
    "     print(i)"
   ]
  },
  {
   "cell_type": "code",
   "execution_count": 16,
   "id": "d335450d",
   "metadata": {},
   "outputs": [
    {
     "name": "stdout",
     "output_type": "stream",
     "text": [
      "a\n",
      "b\n",
      "c\n",
      "d\n",
      "e\n"
     ]
    }
   ],
   "source": [
    "a = 'abcde'\n",
    "for i in a:\n",
    "    print(i)"
   ]
  },
  {
   "cell_type": "code",
   "execution_count": 17,
   "id": "a0efe4b1",
   "metadata": {},
   "outputs": [
    {
     "ename": "SyntaxError",
     "evalue": "EOL while scanning string literal (<ipython-input-17-75624c7d6f21>, line 1)",
     "output_type": "error",
     "traceback": [
      "\u001b[1;36m  File \u001b[1;32m\"<ipython-input-17-75624c7d6f21>\"\u001b[1;36m, line \u001b[1;32m1\u001b[0m\n\u001b[1;33m    a = {'foo':1, 'bar':2, 'baz:3}\u001b[0m\n\u001b[1;37m                                  ^\u001b[0m\n\u001b[1;31mSyntaxError\u001b[0m\u001b[1;31m:\u001b[0m EOL while scanning string literal\n"
     ]
    }
   ],
   "source": [
    "a = {'foo':1, 'bar':2, 'baz:3}\n",
    "for i in a:\n",
    "     print(i, a[1])"
   ]
  },
  {
   "cell_type": "code",
   "execution_count": 18,
   "id": "7469ebd2",
   "metadata": {},
   "outputs": [
    {
     "ename": "TypeError",
     "evalue": "string indices must be integers",
     "output_type": "error",
     "traceback": [
      "\u001b[1;31m---------------------------------------------------------------------------\u001b[0m",
      "\u001b[1;31mTypeError\u001b[0m                                 Traceback (most recent call last)",
      "\u001b[1;32m<ipython-input-18-a67a71088a64>\u001b[0m in \u001b[0;36m<module>\u001b[1;34m\u001b[0m\n\u001b[1;32m----> 1\u001b[1;33m \u001b[0ma\u001b[0m\u001b[1;33m[\u001b[0m\u001b[1;34m'foo'\u001b[0m\u001b[1;33m]\u001b[0m\u001b[1;33m\u001b[0m\u001b[1;33m\u001b[0m\u001b[0m\n\u001b[0m",
      "\u001b[1;31mTypeError\u001b[0m: string indices must be integers"
     ]
    }
   ],
   "source": [
    "a['foo']"
   ]
  },
  {
   "cell_type": "code",
   "execution_count": 19,
   "id": "3cd20bb1",
   "metadata": {},
   "outputs": [
    {
     "ename": "AttributeError",
     "evalue": "'str' object has no attribute 'values'",
     "output_type": "error",
     "traceback": [
      "\u001b[1;31m---------------------------------------------------------------------------\u001b[0m",
      "\u001b[1;31mAttributeError\u001b[0m                            Traceback (most recent call last)",
      "\u001b[1;32m<ipython-input-19-97c4a30c62c0>\u001b[0m in \u001b[0;36m<module>\u001b[1;34m\u001b[0m\n\u001b[1;32m----> 1\u001b[1;33m \u001b[1;32mfor\u001b[0m \u001b[0mi\u001b[0m \u001b[1;32min\u001b[0m \u001b[0ma\u001b[0m\u001b[1;33m.\u001b[0m\u001b[0mvalues\u001b[0m\u001b[1;33m(\u001b[0m\u001b[1;33m)\u001b[0m\u001b[1;33m:\u001b[0m\u001b[1;33m\u001b[0m\u001b[1;33m\u001b[0m\u001b[0m\n\u001b[0m\u001b[0;32m      2\u001b[0m     \u001b[0mprint\u001b[0m\u001b[1;33m(\u001b[0m\u001b[0mi\u001b[0m\u001b[1;33m)\u001b[0m\u001b[1;33m\u001b[0m\u001b[1;33m\u001b[0m\u001b[0m\n",
      "\u001b[1;31mAttributeError\u001b[0m: 'str' object has no attribute 'values'"
     ]
    }
   ],
   "source": [
    "for i in a.values():\n",
    "    print(i)"
   ]
  },
  {
   "cell_type": "code",
   "execution_count": null,
   "id": "7acc36eb",
   "metadata": {},
   "outputs": [],
   "source": [
    "a"
   ]
  },
  {
   "cell_type": "code",
   "execution_count": null,
   "id": "2407bd30",
   "metadata": {},
   "outputs": [],
   "source": [
    "for k, v in a.items():\n",
    "    print(k, v)"
   ]
  },
  {
   "cell_type": "code",
   "execution_count": 23,
   "id": "b3a559b8",
   "metadata": {},
   "outputs": [
    {
     "name": "stdout",
     "output_type": "stream",
     "text": [
      "a A 1\n",
      "b B 2\n",
      "c C 3\n"
     ]
    }
   ],
   "source": [
    "a = ['a', 'b', 'c']\n",
    "b = ['A', 'B', 'C']\n",
    "c = [1, 2, 3]\n",
    "\n",
    "for i, j, k in zip(a, b, c):\n",
    "    print(i, j, k)"
   ]
  },
  {
   "cell_type": "code",
   "execution_count": 27,
   "id": "447bd8db",
   "metadata": {},
   "outputs": [
    {
     "name": "stdout",
     "output_type": "stream",
     "text": [
      "0\n",
      "1\n",
      "2\n",
      "3\n",
      "4\n",
      "6\n",
      "7\n",
      "8\n",
      "9\n"
     ]
    }
   ],
   "source": [
    "for i in range(10):\n",
    "    if i == 5:\n",
    "        continue\n",
    "    print(i)"
   ]
  },
  {
   "cell_type": "code",
   "execution_count": 25,
   "id": "a45aa216",
   "metadata": {},
   "outputs": [
    {
     "data": {
      "text/plain": [
       "range(0, 10)"
      ]
     },
     "execution_count": 25,
     "metadata": {},
     "output_type": "execute_result"
    }
   ],
   "source": [
    "x = range(10)\n",
    "x"
   ]
  },
  {
   "cell_type": "code",
   "execution_count": 28,
   "id": "129cc10f",
   "metadata": {},
   "outputs": [
    {
     "name": "stdout",
     "output_type": "stream",
     "text": [
      "Masukkan nama: Nida\n",
      "N\n",
      "i\n",
      "d\n",
      "a\n"
     ]
    }
   ],
   "source": [
    "a = input('Masukkan nama: ')\n",
    "for i in a:\n",
    "    print(i)"
   ]
  },
  {
   "cell_type": "code",
   "execution_count": null,
   "id": "2d12651c",
   "metadata": {},
   "outputs": [
    {
     "name": "stdout",
     "output_type": "stream",
     "text": [
      "Stop? atyes\n",
      "Stop? yes\n",
      "Stop? no\n",
      "Stop? stop\n"
     ]
    }
   ],
   "source": [
    "while True:\n",
    "    msg = input('Stop? ')\n",
    "    if msg == '5':\n",
    "        break"
   ]
  },
  {
   "cell_type": "code",
   "execution_count": null,
   "id": "8470fe48",
   "metadata": {},
   "outputs": [],
   "source": []
  }
 ],
 "metadata": {
  "kernelspec": {
   "display_name": "Python 3",
   "language": "python",
   "name": "python3"
  },
  "language_info": {
   "codemirror_mode": {
    "name": "ipython",
    "version": 3
   },
   "file_extension": ".py",
   "mimetype": "text/x-python",
   "name": "python",
   "nbconvert_exporter": "python",
   "pygments_lexer": "ipython3",
   "version": "3.8.8"
  }
 },
 "nbformat": 4,
 "nbformat_minor": 5
}
